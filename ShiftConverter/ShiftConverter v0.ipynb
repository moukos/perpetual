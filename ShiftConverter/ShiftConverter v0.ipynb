{
 "cells": [
  {
   "cell_type": "code",
   "execution_count": 47,
   "metadata": {},
   "outputs": [
    {
     "name": "stdout",
     "output_type": "stream",
     "text": [
      "X86 SB\n",
      "\"Fre PodWR Fre PodWR\"\n",
      "{ x=0; y=0; }\n",
      " P0          | P1          ;\n",
      " MOV [x],$1  | MOV [y],$1  ;\n",
      " MOV EAX,[y] | MOV EAX,[x] ;\n",
      "locations [x;y;]\n",
      "exists (0:EAX=0 /\\ 1:EAX=0)\n"
     ]
    }
   ],
   "source": [
    "# Read .litmus file into string\n",
    "\n",
    "TESTNAME = \"SB\"\n",
    "SIZEOFINT = 32\n",
    "UNUSED_REG = \"EDX\"\n",
    "\n",
    "import numpy as np\n",
    "f=open(TESTNAME + \".litmus\", \"r\")\n",
    "string = f.read()\n",
    "print(string)"
   ]
  },
  {
   "cell_type": "code",
   "execution_count": 48,
   "metadata": {},
   "outputs": [],
   "source": [
    "# Extract the initialization information (line in curly brackets) into init\n",
    "\n",
    "init_start = string.index('{')\n",
    "init_end = string.index('}')\n",
    "init = string[init_start:init_end+1]"
   ]
  },
  {
   "cell_type": "code",
   "execution_count": 49,
   "metadata": {},
   "outputs": [],
   "source": [
    "# Extract the instructions into instrs. First index is thread, second index is line\n",
    "\n",
    "code_start = string[init_end:].index(';')+init_end+2\n",
    "number_of_threads = string[init_end+2:code_start].count('|') + 1\n",
    "number_of_lines = string[code_start:].count('|')\n",
    "instrs = [[None]*number_of_lines for _ in range(number_of_threads)] \n",
    "\n",
    "instr_start = code_start\n",
    "for i in range(number_of_lines):\n",
    "    for j in range(number_of_threads):\n",
    "        bar = string[instr_start:].find('|')\n",
    "        if(bar<0):\n",
    "            bar = np.inf\n",
    "        instr_end = min(bar,string[instr_start:].find(';'))+instr_start\n",
    "        instrs[j][i] = string[instr_start:instr_end]\n",
    "        instr_start = instr_end+1       "
   ]
  },
  {
   "cell_type": "code",
   "execution_count": 50,
   "metadata": {},
   "outputs": [],
   "source": [
    "# Extract the final condition into cond\n",
    "\n",
    "code_end = instr_start\n",
    "cond_start = string[code_end:].index('(') + code_end\n",
    "cond_end = string[code_end:].index(')') + code_end\n",
    "cond = string[cond_start:cond_end+1]"
   ]
  },
  {
   "cell_type": "code",
   "execution_count": 51,
   "metadata": {},
   "outputs": [],
   "source": [
    "# Classify operations. Supported: reads, writes, fences. ops has the same structure as instrs.\n",
    "\n",
    "ops = [[None]*number_of_lines for _ in range(number_of_threads)] \n",
    "for i in range(number_of_lines):\n",
    "    for j in range(number_of_threads):\n",
    "        if(instrs[j][i].find(\"MFENCE\")>= 0):\n",
    "            ops[j][i] = \"fence\"\n",
    "        elif(instrs[j][i].find('[') < instrs[j][i].find(',')):\n",
    "            ops[j][i] = \"write\"\n",
    "        else:\n",
    "            ops[j][i] = \"read\"        "
   ]
  },
  {
   "cell_type": "code",
   "execution_count": 52,
   "metadata": {},
   "outputs": [],
   "source": [
    "# Extract memory locations used for writes, registers used for reads and unique write values, \n",
    "# to determine the needed shift amount\n",
    "\n",
    "memlocs = set()\n",
    "reglocs = set()\n",
    "writevals = set()\n",
    "for i in range(number_of_lines):\n",
    "    for j in range(number_of_threads):\n",
    "        instr = instrs[j][i]\n",
    "        if(ops[j][i] == \"write\"):\n",
    "            memlocs.update(instr[instr.find('[')+1:instr.find('[')+2])\n",
    "            writevals.update(instr[instr.find('$')+1:instr.find('$')+2])\n",
    "        if(ops[j][i] == \"read\"):\n",
    "            reglocs.update([str(j) + instr[instr.find(',')-3:instr.find(',')]])\n",
    "            \n",
    "no_vals = len(writevals)\n",
    "sh_amt = 1 + no_vals//2"
   ]
  },
  {
   "cell_type": "code",
   "execution_count": 56,
   "metadata": {},
   "outputs": [],
   "source": [
    "# Write file with unrolling\n",
    "\n",
    "# Open and write initial stuff\n",
    "output_file = open(TESTNAME + \"_wshifts.s\", \"w\")\n",
    "output_file.write(string[:(string[init_end:].index(';')+init_end+1)])\n",
    "\n",
    "# Initialize counters\n",
    "output_file.write(\"\\n MOV \" + UNUSED_REG + \",$1  | MOV \" + UNUSED_REG + \",$1  ;\\n\")\n",
    "\n",
    "for i in range(SIZEOFINT):\n",
    "    for j in range(number_of_lines):\n",
    "        for k in range(number_of_threads):\n",
    "            # If write, make sure we write counter instead of immediate\n",
    "            if(ops[k][j] != \"write\"):\n",
    "                output_file.write(instrs[k][j])\n",
    "            else:\n",
    "                output_file.write(instrs[k][j][:instrs[k][j].find('$')] + UNUSED_REG + \" \")\n",
    "                \n",
    "            # Terminate appropriately\n",
    "            if (k != number_of_threads - 1):\n",
    "                output_file.write(\"|\")\n",
    "            else: \n",
    "                output_file.write(\";\")\n",
    "   \n",
    "    # Shift counter left\n",
    "    if (i != SIZEOFINT-1):\n",
    "        output_file.write(\"\\n\\n SLL \" + UNUSED_REG + \",$\" + str(sh_amt) + \"  | SLL \" + UNUSED_REG + \",$\" + str(sh_amt) + \"  ;\\n\")\n",
    "\n",
    "# Write final stuff & close\n",
    "output_file.write(string[code_end:])\n",
    "output_file.close()"
   ]
  },
  {
   "cell_type": "code",
   "execution_count": null,
   "metadata": {},
   "outputs": [],
   "source": []
  },
  {
   "cell_type": "code",
   "execution_count": null,
   "metadata": {},
   "outputs": [],
   "source": []
  }
 ],
 "metadata": {
  "kernelspec": {
   "display_name": "Python 3",
   "language": "python",
   "name": "python3"
  },
  "language_info": {
   "codemirror_mode": {
    "name": "ipython",
    "version": 3
   },
   "file_extension": ".py",
   "mimetype": "text/x-python",
   "name": "python",
   "nbconvert_exporter": "python",
   "pygments_lexer": "ipython3",
   "version": "3.6.5"
  }
 },
 "nbformat": 4,
 "nbformat_minor": 2
}
