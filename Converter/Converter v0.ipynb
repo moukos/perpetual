{
 "cells": [
  {
   "cell_type": "code",
   "execution_count": 1,
   "metadata": {},
   "outputs": [
    {
     "name": "stdout",
     "output_type": "stream",
     "text": [
      "X86 SB\n",
      "\"Fre PodWR Fre PodWR\"\n",
      "{ x=0; y=0; }\n",
      " P0          | P1          ;\n",
      " MOV [x],$1  | MOV [y],$1  ;\n",
      " MOV EAX,[y] | MOV EAX,[x] ;\n",
      "locations [x;y;]\n",
      "exists (0:EAX=0 /\\ 1:EAX=0)\n"
     ]
    }
   ],
   "source": [
    "# Read .litmus file into string\n",
    "\n",
    "FILENAME = \"SB.litmus\"\n",
    "import numpy as np\n",
    "f=open(FILENAME, \"r\")\n",
    "string = f.read()\n",
    "print(string)"
   ]
  },
  {
   "cell_type": "code",
   "execution_count": 2,
   "metadata": {},
   "outputs": [],
   "source": [
    "# Extract the initialization information (line in curly brackets) into init\n",
    "\n",
    "init_start = string.index('{')\n",
    "init_end = string.index('}')\n",
    "init = string[init_start:init_end+1]"
   ]
  },
  {
   "cell_type": "code",
   "execution_count": 3,
   "metadata": {},
   "outputs": [],
   "source": [
    "# Extract the instructions into instrs. First index is thread, second index is line\n",
    "\n",
    "code_start = string[init_end:].index(';')+init_end+2\n",
    "number_of_threads = string[init_end+2:code_start].count('|') + 1\n",
    "number_of_lines = string[code_start:].count('|')\n",
    "instrs = [[None]*number_of_lines for _ in range(number_of_threads)] \n",
    "\n",
    "instr_start = code_start\n",
    "for i in range(number_of_lines):\n",
    "    for j in range(number_of_threads):\n",
    "        bar = string[instr_start:].find('|')\n",
    "        if(bar<0):\n",
    "            bar = np.inf\n",
    "        instr_end = min(bar,string[instr_start:].find('\\n'))+instr_start\n",
    "        instrs[j][i] = string[instr_start:instr_end]\n",
    "        instr_start = instr_end+1       "
   ]
  },
  {
   "cell_type": "code",
   "execution_count": 4,
   "metadata": {},
   "outputs": [],
   "source": [
    "# Extract the final condition into cond\n",
    "\n",
    "code_end = instr_start\n",
    "cond_start = string[code_end:].index('(') + code_end\n",
    "cond_end = string[code_end:].index(')') + code_end\n",
    "cond = string[cond_start:cond_end+1]"
   ]
  },
  {
   "cell_type": "code",
   "execution_count": 7,
   "metadata": {},
   "outputs": [
    {
     "data": {
      "text/plain": [
       "'(0:EAX=0 /\\\\ 1:EAX=0)'"
      ]
     },
     "execution_count": 7,
     "metadata": {},
     "output_type": "execute_result"
    }
   ],
   "source": [
    "cond"
   ]
  },
  {
   "cell_type": "code",
   "execution_count": null,
   "metadata": {},
   "outputs": [],
   "source": []
  }
 ],
 "metadata": {
  "kernelspec": {
   "display_name": "Python 3",
   "language": "python",
   "name": "python3"
  },
  "language_info": {
   "codemirror_mode": {
    "name": "ipython",
    "version": 3
   },
   "file_extension": ".py",
   "mimetype": "text/x-python",
   "name": "python",
   "nbconvert_exporter": "python",
   "pygments_lexer": "ipython3",
   "version": "3.6.5"
  }
 },
 "nbformat": 4,
 "nbformat_minor": 2
}
